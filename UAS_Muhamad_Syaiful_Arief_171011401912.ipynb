{
  "nbformat": 4,
  "nbformat_minor": 0,
  "metadata": {
    "colab": {
      "name": "UAS_Muhamad_Syaiful_Arief_171011401912.ipynb",
      "provenance": [],
      "collapsed_sections": []
    },
    "kernelspec": {
      "name": "python3",
      "display_name": "Python 3"
    }
  },
  "cells": [
    {
      "cell_type": "code",
      "metadata": {
        "colab": {
          "base_uri": "https://localhost:8080/"
        },
        "id": "J-5nITIMSUHn",
        "outputId": "f95bfcb3-bca2-4ace-d537-838380236465"
      },
      "source": [
        "from sklearn import tree\n",
        "\n",
        "beras = 0\n",
        "tepung = 1\n",
        "kg = 0\n",
        "pcs = 1\n",
        "\n",
        "tipe = [[20, 1],[30, 1],[50, 0],[90, 0]]\n",
        "varian = [0, 0, 1, 1]\n",
        "reaksi= tree.DecisionTreeClassifier()\n",
        "reaksi= reaksi.fit(tipe, varian)\n",
        "\n",
        "print('Klasifikasi bahan pokok')\n",
        "a = input('Berapa kilogram? : ')\n",
        "b = input('\\njenis yang dipilih \\nkg atau pcs : ')\n",
        "\n",
        "jawab = int(a)\n",
        "if b.lower() == 'kg':\n",
        "    tk = 0\n",
        "elif b.lower() == 'pcs':\n",
        "    tk = 1\n",
        "else:\n",
        "    print('Unknown')\n",
        "\n",
        "c = reaksi.predict([[jawab, tk]])\n",
        "if c == 0:\n",
        "    d = 'beras'\n",
        "else:\n",
        "    d = 'tepung'\n",
        "\n",
        "print('Berikut pilihan yang anda masukan : {}'.format(d))\n"
      ],
      "execution_count": null,
      "outputs": [
        {
          "output_type": "stream",
          "text": [
            "Klasifikasi bahan pokok\n",
            "Berapa kilogram? : 38\n",
            "\n",
            "jenis yang dipilih \n",
            "kg atau pcs : kg\n",
            "Berikut pilihan yang anda masukan : tepung\n"
          ],
          "name": "stdout"
        }
      ]
    }
  ]
}